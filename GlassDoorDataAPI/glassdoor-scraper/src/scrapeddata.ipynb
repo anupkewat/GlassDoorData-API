{
 "cells": [
  {
   "cell_type": "code",
   "execution_count": 5,
   "metadata": {},
   "outputs": [],
   "source": [
    "import pandas as pd\n",
    "from main import glassdoor_scraper"
   ]
  },
  {
   "cell_type": "code",
   "execution_count": 7,
   "metadata": {},
   "outputs": [],
   "source": [
    "data = pd.read_csv ('C:\\\\Users\\\\svsma\\\\OneDrive\\\\Desktop\\\\webscraper\\\\glassdoor-scraper\\\\src\\\\output\\\\output_02-10-2022.csv',encoding='cp1252' )"
   ]
  }
 ],
 "metadata": {
  "kernelspec": {
   "display_name": "Python 3.10.7 64-bit (microsoft store)",
   "language": "python",
   "name": "python3"
  },
  "language_info": {
   "codemirror_mode": {
    "name": "ipython",
    "version": 3
   },
   "file_extension": ".py",
   "mimetype": "text/x-python",
   "name": "python",
   "nbconvert_exporter": "python",
   "pygments_lexer": "ipython3",
   "version": "3.10.7"
  },
  "orig_nbformat": 4,
  "vscode": {
   "interpreter": {
    "hash": "794cc49c517ac51287c7b96019cca3035cb94212db60d9598fc658d6161554a7"
   }
  }
 },
 "nbformat": 4,
 "nbformat_minor": 2
}
